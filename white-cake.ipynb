{
 "cells": [
  {
   "cell_type": "code",
   "execution_count": 17,
   "id": "continent-magazine",
   "metadata": {},
   "outputs": [
    {
     "name": "stderr",
     "output_type": "stream",
     "text": [
      "                                                                                                    \r"
     ]
    },
    {
     "data": {
      "text/html": [
       "<pre style=\"white-space:pre;overflow-x:auto;line-height:normal;font-family:Menlo,'DejaVu Sans Mono',consolas,'Courier New',monospace\"><span style=\"color: #7fbfbf\">[02/07/21 15:19:36] </span><span style=\"color: #000080\">INFO</span>     Animation <span style=\"color: #000080; font-weight: bold\">0</span> : Partial movie file        <a href=\"file:///Users/britton/anaconda3/envs/manim/lib/python3.9/site-packages/manim/scene/scene_file_writer.py\"><span style=\"color: #7f7f7f\">scene_file_writer.py</span></a><span style=\"color: #7f7f7f\">:377</span>\n",
       "                             written in <span style=\"font-weight: bold\">{</span><span style=\"color: #008000\">'/Users/britton/shared/gith</span>                         \n",
       "                             <span style=\"color: #008000\">ub/jbqubit/manimanim/media/videos/manim</span>                         \n",
       "                             <span style=\"color: #008000\">anim/720p30/partial_movie_files/WhiteCa</span>                         \n",
       "                             <span style=\"color: #008000\">ke/1342159004_1587934171_2633763131.mp4</span>                         \n",
       "                             <span style=\"color: #008000\">'</span><span style=\"font-weight: bold\">}</span>                                                              \n",
       "</pre>\n"
      ],
      "text/plain": [
       "<rich.jupyter.JupyterRenderable at 0x11fbe2c70>"
      ]
     },
     "metadata": {},
     "output_type": "display_data"
    },
    {
     "data": {
      "text/html": [
       "<pre style=\"white-space:pre;overflow-x:auto;line-height:normal;font-family:Menlo,'DejaVu Sans Mono',consolas,'Courier New',monospace\"><span style=\"color: #7fbfbf\">                    </span><span style=\"color: #000080\">INFO</span>     Animation <span style=\"color: #000080; font-weight: bold\">1</span> : Partial movie file        <a href=\"file:///Users/britton/anaconda3/envs/manim/lib/python3.9/site-packages/manim/scene/scene_file_writer.py\"><span style=\"color: #7f7f7f\">scene_file_writer.py</span></a><span style=\"color: #7f7f7f\">:377</span>\n",
       "                             written in <span style=\"font-weight: bold\">{</span><span style=\"color: #008000\">'/Users/britton/shared/gith</span>                         \n",
       "                             <span style=\"color: #008000\">ub/jbqubit/manimanim/media/videos/manim</span>                         \n",
       "                             <span style=\"color: #008000\">anim/720p30/partial_movie_files/WhiteCa</span>                         \n",
       "                             <span style=\"color: #008000\">ke/2708194817_123398499_4283827222.mp4'</span>                         \n",
       "                             <span style=\"font-weight: bold\">}</span>                                                               \n",
       "</pre>\n"
      ],
      "text/plain": [
       "<rich.jupyter.JupyterRenderable at 0x11e207af0>"
      ]
     },
     "metadata": {},
     "output_type": "display_data"
    },
    {
     "name": "stderr",
     "output_type": "stream",
     "text": [
      "                                                                                       \r"
     ]
    },
    {
     "data": {
      "text/html": [
       "<pre style=\"white-space:pre;overflow-x:auto;line-height:normal;font-family:Menlo,'DejaVu Sans Mono',consolas,'Courier New',monospace\"><span style=\"color: #7fbfbf\">[02/07/21 15:19:37] </span><span style=\"color: #000080\">INFO</span>     Animation <span style=\"color: #000080; font-weight: bold\">2</span> : Partial movie file        <a href=\"file:///Users/britton/anaconda3/envs/manim/lib/python3.9/site-packages/manim/scene/scene_file_writer.py\"><span style=\"color: #7f7f7f\">scene_file_writer.py</span></a><span style=\"color: #7f7f7f\">:377</span>\n",
       "                             written in <span style=\"font-weight: bold\">{</span><span style=\"color: #008000\">'/Users/britton/shared/gith</span>                         \n",
       "                             <span style=\"color: #008000\">ub/jbqubit/manimanim/media/videos/manim</span>                         \n",
       "                             <span style=\"color: #008000\">anim/720p30/partial_movie_files/WhiteCa</span>                         \n",
       "                             <span style=\"color: #008000\">ke/2708194817_2071983140_1403114322.mp4</span>                         \n",
       "                             <span style=\"color: #008000\">'</span><span style=\"font-weight: bold\">}</span>                                                              \n",
       "</pre>\n"
      ],
      "text/plain": [
       "<rich.jupyter.JupyterRenderable at 0x11f790c10>"
      ]
     },
     "metadata": {},
     "output_type": "display_data"
    },
    {
     "data": {
      "text/html": [
       "<pre style=\"white-space:pre;overflow-x:auto;line-height:normal;font-family:Menlo,'DejaVu Sans Mono',consolas,'Courier New',monospace\"><span style=\"color: #7fbfbf\">                    </span><span style=\"color: #000080\">INFO</span>     Animation <span style=\"color: #000080; font-weight: bold\">3</span> : Partial movie file        <a href=\"file:///Users/britton/anaconda3/envs/manim/lib/python3.9/site-packages/manim/scene/scene_file_writer.py\"><span style=\"color: #7f7f7f\">scene_file_writer.py</span></a><span style=\"color: #7f7f7f\">:377</span>\n",
       "                             written in <span style=\"font-weight: bold\">{</span><span style=\"color: #008000\">'/Users/britton/shared/gith</span>                         \n",
       "                             <span style=\"color: #008000\">ub/jbqubit/manimanim/media/videos/manim</span>                         \n",
       "                             <span style=\"color: #008000\">anim/720p30/partial_movie_files/WhiteCa</span>                         \n",
       "                             <span style=\"color: #008000\">ke/2708194817_123398499_3105814936.mp4'</span>                         \n",
       "                             <span style=\"font-weight: bold\">}</span>                                                               \n",
       "</pre>\n"
      ],
      "text/plain": [
       "<rich.jupyter.JupyterRenderable at 0x11f121cd0>"
      ]
     },
     "metadata": {},
     "output_type": "display_data"
    },
    {
     "name": "stderr",
     "output_type": "stream",
     "text": [
      "                                                                                                     \r"
     ]
    },
    {
     "data": {
      "text/html": [
       "<pre style=\"white-space:pre;overflow-x:auto;line-height:normal;font-family:Menlo,'DejaVu Sans Mono',consolas,'Courier New',monospace\"><span style=\"color: #7fbfbf\">[02/07/21 15:19:38] </span><span style=\"color: #000080\">INFO</span>     Animation <span style=\"color: #000080; font-weight: bold\">4</span> : Partial movie file        <a href=\"file:///Users/britton/anaconda3/envs/manim/lib/python3.9/site-packages/manim/scene/scene_file_writer.py\"><span style=\"color: #7f7f7f\">scene_file_writer.py</span></a><span style=\"color: #7f7f7f\">:377</span>\n",
       "                             written in <span style=\"font-weight: bold\">{</span><span style=\"color: #008000\">'/Users/britton/shared/gith</span>                         \n",
       "                             <span style=\"color: #008000\">ub/jbqubit/manimanim/media/videos/manim</span>                         \n",
       "                             <span style=\"color: #008000\">anim/720p30/partial_movie_files/WhiteCa</span>                         \n",
       "                             <span style=\"color: #008000\">ke/2708194817_2611011469_2599248543.mp4</span>                         \n",
       "                             <span style=\"color: #008000\">'</span><span style=\"font-weight: bold\">}</span>                                                              \n",
       "</pre>\n"
      ],
      "text/plain": [
       "<rich.jupyter.JupyterRenderable at 0x1200d7520>"
      ]
     },
     "metadata": {},
     "output_type": "display_data"
    },
    {
     "data": {
      "text/html": [
       "<pre style=\"white-space:pre;overflow-x:auto;line-height:normal;font-family:Menlo,'DejaVu Sans Mono',consolas,'Courier New',monospace\"><span style=\"color: #7fbfbf\">                    </span><span style=\"color: #000080\">INFO</span>     Animation <span style=\"color: #000080; font-weight: bold\">5</span> : Partial movie file        <a href=\"file:///Users/britton/anaconda3/envs/manim/lib/python3.9/site-packages/manim/scene/scene_file_writer.py\"><span style=\"color: #7f7f7f\">scene_file_writer.py</span></a><span style=\"color: #7f7f7f\">:377</span>\n",
       "                             written in <span style=\"font-weight: bold\">{</span><span style=\"color: #008000\">'/Users/britton/shared/gith</span>                         \n",
       "                             <span style=\"color: #008000\">ub/jbqubit/manimanim/media/videos/manim</span>                         \n",
       "                             <span style=\"color: #008000\">anim/720p30/partial_movie_files/WhiteCa</span>                         \n",
       "                             <span style=\"color: #008000\">ke/2708194817_123398499_3885765702.mp4'</span>                         \n",
       "                             <span style=\"font-weight: bold\">}</span>                                                               \n",
       "</pre>\n"
      ],
      "text/plain": [
       "<rich.jupyter.JupyterRenderable at 0x11fc8afd0>"
      ]
     },
     "metadata": {},
     "output_type": "display_data"
    },
    {
     "name": "stderr",
     "output_type": "stream",
     "text": [
      "                                                                                                               \r"
     ]
    },
    {
     "data": {
      "text/html": [
       "<pre style=\"white-space:pre;overflow-x:auto;line-height:normal;font-family:Menlo,'DejaVu Sans Mono',consolas,'Courier New',monospace\"><span style=\"color: #7fbfbf\">[02/07/21 15:19:39] </span><span style=\"color: #000080\">INFO</span>     Animation <span style=\"color: #000080; font-weight: bold\">6</span> : Partial movie file        <a href=\"file:///Users/britton/anaconda3/envs/manim/lib/python3.9/site-packages/manim/scene/scene_file_writer.py\"><span style=\"color: #7f7f7f\">scene_file_writer.py</span></a><span style=\"color: #7f7f7f\">:377</span>\n",
       "                             written in <span style=\"font-weight: bold\">{</span><span style=\"color: #008000\">'/Users/britton/shared/gith</span>                         \n",
       "                             <span style=\"color: #008000\">ub/jbqubit/manimanim/media/videos/manim</span>                         \n",
       "                             <span style=\"color: #008000\">anim/720p30/partial_movie_files/WhiteCa</span>                         \n",
       "                             <span style=\"color: #008000\">ke/2708194817_2103223247_2265556060.mp4</span>                         \n",
       "                             <span style=\"color: #008000\">'</span><span style=\"font-weight: bold\">}</span>                                                              \n",
       "</pre>\n"
      ],
      "text/plain": [
       "<rich.jupyter.JupyterRenderable at 0x11fc80280>"
      ]
     },
     "metadata": {},
     "output_type": "display_data"
    },
    {
     "data": {
      "text/html": [
       "<pre style=\"white-space:pre;overflow-x:auto;line-height:normal;font-family:Menlo,'DejaVu Sans Mono',consolas,'Courier New',monospace\"><span style=\"color: #7fbfbf\">                    </span><span style=\"color: #000080\">INFO</span>     Animation <span style=\"color: #000080; font-weight: bold\">7</span> : Partial movie file        <a href=\"file:///Users/britton/anaconda3/envs/manim/lib/python3.9/site-packages/manim/scene/scene_file_writer.py\"><span style=\"color: #7f7f7f\">scene_file_writer.py</span></a><span style=\"color: #7f7f7f\">:377</span>\n",
       "                             written in <span style=\"font-weight: bold\">{</span><span style=\"color: #008000\">'/Users/britton/shared/gith</span>                         \n",
       "                             <span style=\"color: #008000\">ub/jbqubit/manimanim/media/videos/manim</span>                         \n",
       "                             <span style=\"color: #008000\">anim/720p30/partial_movie_files/WhiteCa</span>                         \n",
       "                             <span style=\"color: #008000\">ke/2708194817_123398499_1289984508.mp4'</span>                         \n",
       "                             <span style=\"font-weight: bold\">}</span>                                                               \n",
       "</pre>\n"
      ],
      "text/plain": [
       "<rich.jupyter.JupyterRenderable at 0x1200328e0>"
      ]
     },
     "metadata": {},
     "output_type": "display_data"
    },
    {
     "name": "stderr",
     "output_type": "stream",
     "text": [
      "                                                                                                             \r"
     ]
    },
    {
     "data": {
      "text/html": [
       "<pre style=\"white-space:pre;overflow-x:auto;line-height:normal;font-family:Menlo,'DejaVu Sans Mono',consolas,'Courier New',monospace\"><span style=\"color: #7fbfbf\">[02/07/21 15:19:40] </span><span style=\"color: #000080\">INFO</span>     Animation <span style=\"color: #000080; font-weight: bold\">8</span> : Partial movie file        <a href=\"file:///Users/britton/anaconda3/envs/manim/lib/python3.9/site-packages/manim/scene/scene_file_writer.py\"><span style=\"color: #7f7f7f\">scene_file_writer.py</span></a><span style=\"color: #7f7f7f\">:377</span>\n",
       "                             written in <span style=\"font-weight: bold\">{</span><span style=\"color: #008000\">'/Users/britton/shared/gith</span>                         \n",
       "                             <span style=\"color: #008000\">ub/jbqubit/manimanim/media/videos/manim</span>                         \n",
       "                             <span style=\"color: #008000\">anim/720p30/partial_movie_files/WhiteCa</span>                         \n",
       "                             <span style=\"color: #008000\">ke/2708194817_1084635612_4278508698.mp4</span>                         \n",
       "                             <span style=\"color: #008000\">'</span><span style=\"font-weight: bold\">}</span>                                                              \n",
       "</pre>\n"
      ],
      "text/plain": [
       "<rich.jupyter.JupyterRenderable at 0x11f8f03d0>"
      ]
     },
     "metadata": {},
     "output_type": "display_data"
    },
    {
     "data": {
      "text/html": [
       "<pre style=\"white-space:pre;overflow-x:auto;line-height:normal;font-family:Menlo,'DejaVu Sans Mono',consolas,'Courier New',monospace\"><span style=\"color: #7fbfbf\">[02/07/21 15:19:41] </span><span style=\"color: #000080\">INFO</span>     Animation <span style=\"color: #000080; font-weight: bold\">9</span> : Partial movie file        <a href=\"file:///Users/britton/anaconda3/envs/manim/lib/python3.9/site-packages/manim/scene/scene_file_writer.py\"><span style=\"color: #7f7f7f\">scene_file_writer.py</span></a><span style=\"color: #7f7f7f\">:377</span>\n",
       "                             written in <span style=\"font-weight: bold\">{</span><span style=\"color: #008000\">'/Users/britton/shared/gith</span>                         \n",
       "                             <span style=\"color: #008000\">ub/jbqubit/manimanim/media/videos/manim</span>                         \n",
       "                             <span style=\"color: #008000\">anim/720p30/partial_movie_files/WhiteCa</span>                         \n",
       "                             <span style=\"color: #008000\">ke/2708194817_123398499_2576459992.mp4'</span>                         \n",
       "                             <span style=\"font-weight: bold\">}</span>                                                               \n",
       "</pre>\n"
      ],
      "text/plain": [
       "<rich.jupyter.JupyterRenderable at 0x11fc12550>"
      ]
     },
     "metadata": {},
     "output_type": "display_data"
    },
    {
     "name": "stderr",
     "output_type": "stream",
     "text": [
      "                                                                                                   \r"
     ]
    },
    {
     "data": {
      "text/html": [
       "<pre style=\"white-space:pre;overflow-x:auto;line-height:normal;font-family:Menlo,'DejaVu Sans Mono',consolas,'Courier New',monospace\"><span style=\"color: #7fbfbf\">                    </span><span style=\"color: #000080\">INFO</span>     Animation <span style=\"color: #000080; font-weight: bold\">10</span> : Partial movie file       <a href=\"file:///Users/britton/anaconda3/envs/manim/lib/python3.9/site-packages/manim/scene/scene_file_writer.py\"><span style=\"color: #7f7f7f\">scene_file_writer.py</span></a><span style=\"color: #7f7f7f\">:377</span>\n",
       "                             written in <span style=\"font-weight: bold\">{</span><span style=\"color: #008000\">'/Users/britton/shared/gith</span>                         \n",
       "                             <span style=\"color: #008000\">ub/jbqubit/manimanim/media/videos/manim</span>                         \n",
       "                             <span style=\"color: #008000\">anim/720p30/partial_movie_files/WhiteCa</span>                         \n",
       "                             <span style=\"color: #008000\">ke/2708194817_1352442481_1361577875.mp4</span>                         \n",
       "                             <span style=\"color: #008000\">'</span><span style=\"font-weight: bold\">}</span>                                                              \n",
       "</pre>\n"
      ],
      "text/plain": [
       "<rich.jupyter.JupyterRenderable at 0x11f7708e0>"
      ]
     },
     "metadata": {},
     "output_type": "display_data"
    },
    {
     "data": {
      "text/html": [
       "<pre style=\"white-space:pre;overflow-x:auto;line-height:normal;font-family:Menlo,'DejaVu Sans Mono',consolas,'Courier New',monospace\"><span style=\"color: #7fbfbf\">[02/07/21 15:19:42] </span><span style=\"color: #000080\">INFO</span>     Animation <span style=\"color: #000080; font-weight: bold\">11</span> : Partial movie file       <a href=\"file:///Users/britton/anaconda3/envs/manim/lib/python3.9/site-packages/manim/scene/scene_file_writer.py\"><span style=\"color: #7f7f7f\">scene_file_writer.py</span></a><span style=\"color: #7f7f7f\">:377</span>\n",
       "                             written in <span style=\"font-weight: bold\">{</span><span style=\"color: #008000\">'/Users/britton/shared/gith</span>                         \n",
       "                             <span style=\"color: #008000\">ub/jbqubit/manimanim/media/videos/manim</span>                         \n",
       "                             <span style=\"color: #008000\">anim/720p30/partial_movie_files/WhiteCa</span>                         \n",
       "                             <span style=\"color: #008000\">ke/2708194817_123398499_4190124541.mp4'</span>                         \n",
       "                             <span style=\"font-weight: bold\">}</span>                                                               \n",
       "</pre>\n"
      ],
      "text/plain": [
       "<rich.jupyter.JupyterRenderable at 0x11f8f00d0>"
      ]
     },
     "metadata": {},
     "output_type": "display_data"
    },
    {
     "name": "stderr",
     "output_type": "stream",
     "text": [
      "                                                                                                                                   \r"
     ]
    },
    {
     "data": {
      "text/html": [
       "<pre style=\"white-space:pre;overflow-x:auto;line-height:normal;font-family:Menlo,'DejaVu Sans Mono',consolas,'Courier New',monospace\"><span style=\"color: #7fbfbf\">[02/07/21 15:19:43] </span><span style=\"color: #000080\">INFO</span>     Animation <span style=\"color: #000080; font-weight: bold\">12</span> : Partial movie file       <a href=\"file:///Users/britton/anaconda3/envs/manim/lib/python3.9/site-packages/manim/scene/scene_file_writer.py\"><span style=\"color: #7f7f7f\">scene_file_writer.py</span></a><span style=\"color: #7f7f7f\">:377</span>\n",
       "                             written in <span style=\"font-weight: bold\">{</span><span style=\"color: #008000\">'/Users/britton/shared/gith</span>                         \n",
       "                             <span style=\"color: #008000\">ub/jbqubit/manimanim/media/videos/manim</span>                         \n",
       "                             <span style=\"color: #008000\">anim/720p30/partial_movie_files/WhiteCa</span>                         \n",
       "                             <span style=\"color: #008000\">ke/2708194817_3727120425_1526207850.mp4</span>                         \n",
       "                             <span style=\"color: #008000\">'</span><span style=\"font-weight: bold\">}</span>                                                              \n",
       "</pre>\n"
      ],
      "text/plain": [
       "<rich.jupyter.JupyterRenderable at 0x120032220>"
      ]
     },
     "metadata": {},
     "output_type": "display_data"
    },
    {
     "data": {
      "text/html": [
       "<pre style=\"white-space:pre;overflow-x:auto;line-height:normal;font-family:Menlo,'DejaVu Sans Mono',consolas,'Courier New',monospace\"><span style=\"color: #7fbfbf\">                    </span><span style=\"color: #000080\">INFO</span>     Animation <span style=\"color: #000080; font-weight: bold\">13</span> : Partial movie file       <a href=\"file:///Users/britton/anaconda3/envs/manim/lib/python3.9/site-packages/manim/scene/scene_file_writer.py\"><span style=\"color: #7f7f7f\">scene_file_writer.py</span></a><span style=\"color: #7f7f7f\">:377</span>\n",
       "                             written in <span style=\"font-weight: bold\">{</span><span style=\"color: #008000\">'/Users/britton/shared/gith</span>                         \n",
       "                             <span style=\"color: #008000\">ub/jbqubit/manimanim/media/videos/manim</span>                         \n",
       "                             <span style=\"color: #008000\">anim/720p30/partial_movie_files/WhiteCa</span>                         \n",
       "                             <span style=\"color: #008000\">ke/2708194817_123398499_818734736.mp4'</span><span style=\"font-weight: bold\">}</span>                         \n",
       "</pre>\n"
      ],
      "text/plain": [
       "<rich.jupyter.JupyterRenderable at 0x11fbafaf0>"
      ]
     },
     "metadata": {},
     "output_type": "display_data"
    },
    {
     "name": "stderr",
     "output_type": "stream",
     "text": [
      "                                                                                                    \r"
     ]
    },
    {
     "data": {
      "text/html": [
       "<pre style=\"white-space:pre;overflow-x:auto;line-height:normal;font-family:Menlo,'DejaVu Sans Mono',consolas,'Courier New',monospace\"><span style=\"color: #7fbfbf\">[02/07/21 15:19:44] </span><span style=\"color: #000080\">INFO</span>     Animation <span style=\"color: #000080; font-weight: bold\">14</span> : Partial movie file       <a href=\"file:///Users/britton/anaconda3/envs/manim/lib/python3.9/site-packages/manim/scene/scene_file_writer.py\"><span style=\"color: #7f7f7f\">scene_file_writer.py</span></a><span style=\"color: #7f7f7f\">:377</span>\n",
       "                             written in <span style=\"font-weight: bold\">{</span><span style=\"color: #008000\">'/Users/britton/shared/gith</span>                         \n",
       "                             <span style=\"color: #008000\">ub/jbqubit/manimanim/media/videos/manim</span>                         \n",
       "                             <span style=\"color: #008000\">anim/720p30/partial_movie_files/WhiteCa</span>                         \n",
       "                             <span style=\"color: #008000\">ke/2708194817_4159733278_3790466883.mp4</span>                         \n",
       "                             <span style=\"color: #008000\">'</span><span style=\"font-weight: bold\">}</span>                                                              \n",
       "</pre>\n"
      ],
      "text/plain": [
       "<rich.jupyter.JupyterRenderable at 0x11f632f70>"
      ]
     },
     "metadata": {},
     "output_type": "display_data"
    },
    {
     "data": {
      "text/html": [
       "<pre style=\"white-space:pre;overflow-x:auto;line-height:normal;font-family:Menlo,'DejaVu Sans Mono',consolas,'Courier New',monospace\"><span style=\"color: #7fbfbf\">[02/07/21 15:19:45] </span><span style=\"color: #000080\">INFO</span>     Animation <span style=\"color: #000080; font-weight: bold\">15</span> : Partial movie file       <a href=\"file:///Users/britton/anaconda3/envs/manim/lib/python3.9/site-packages/manim/scene/scene_file_writer.py\"><span style=\"color: #7f7f7f\">scene_file_writer.py</span></a><span style=\"color: #7f7f7f\">:377</span>\n",
       "                             written in <span style=\"font-weight: bold\">{</span><span style=\"color: #008000\">'/Users/britton/shared/gith</span>                         \n",
       "                             <span style=\"color: #008000\">ub/jbqubit/manimanim/media/videos/manim</span>                         \n",
       "                             <span style=\"color: #008000\">anim/720p30/partial_movie_files/WhiteCa</span>                         \n",
       "                             <span style=\"color: #008000\">ke/2708194817_123398499_2542639082.mp4'</span>                         \n",
       "                             <span style=\"font-weight: bold\">}</span>                                                               \n",
       "</pre>\n"
      ],
      "text/plain": [
       "<rich.jupyter.JupyterRenderable at 0x11f790ac0>"
      ]
     },
     "metadata": {},
     "output_type": "display_data"
    },
    {
     "name": "stderr",
     "output_type": "stream",
     "text": [
      "                                                                                                                                 \r"
     ]
    },
    {
     "data": {
      "text/html": [
       "<pre style=\"white-space:pre;overflow-x:auto;line-height:normal;font-family:Menlo,'DejaVu Sans Mono',consolas,'Courier New',monospace\"><span style=\"color: #7fbfbf\">[02/07/21 15:19:47] </span><span style=\"color: #000080\">INFO</span>     Animation <span style=\"color: #000080; font-weight: bold\">16</span> : Partial movie file       <a href=\"file:///Users/britton/anaconda3/envs/manim/lib/python3.9/site-packages/manim/scene/scene_file_writer.py\"><span style=\"color: #7f7f7f\">scene_file_writer.py</span></a><span style=\"color: #7f7f7f\">:377</span>\n",
       "                             written in <span style=\"font-weight: bold\">{</span><span style=\"color: #008000\">'/Users/britton/shared/gith</span>                         \n",
       "                             <span style=\"color: #008000\">ub/jbqubit/manimanim/media/videos/manim</span>                         \n",
       "                             <span style=\"color: #008000\">anim/720p30/partial_movie_files/WhiteCa</span>                         \n",
       "                             <span style=\"color: #008000\">ke/2708194817_2517344739_1090088125.mp4</span>                         \n",
       "                             <span style=\"color: #008000\">'</span><span style=\"font-weight: bold\">}</span>                                                              \n",
       "</pre>\n"
      ],
      "text/plain": [
       "<rich.jupyter.JupyterRenderable at 0x11e16de20>"
      ]
     },
     "metadata": {},
     "output_type": "display_data"
    },
    {
     "data": {
      "text/html": [
       "<pre style=\"white-space:pre;overflow-x:auto;line-height:normal;font-family:Menlo,'DejaVu Sans Mono',consolas,'Courier New',monospace\"><span style=\"color: #7fbfbf\">[02/07/21 15:19:48] </span><span style=\"color: #000080\">INFO</span>     Animation <span style=\"color: #000080; font-weight: bold\">17</span> : Partial movie file       <a href=\"file:///Users/britton/anaconda3/envs/manim/lib/python3.9/site-packages/manim/scene/scene_file_writer.py\"><span style=\"color: #7f7f7f\">scene_file_writer.py</span></a><span style=\"color: #7f7f7f\">:377</span>\n",
       "                             written in <span style=\"font-weight: bold\">{</span><span style=\"color: #008000\">'/Users/britton/shared/gith</span>                         \n",
       "                             <span style=\"color: #008000\">ub/jbqubit/manimanim/media/videos/manim</span>                         \n",
       "                             <span style=\"color: #008000\">anim/720p30/partial_movie_files/WhiteCa</span>                         \n",
       "                             <span style=\"color: #008000\">ke/2708194817_1491962050_334080672.mp4'</span>                         \n",
       "                             <span style=\"font-weight: bold\">}</span>                                                               \n",
       "</pre>\n"
      ],
      "text/plain": [
       "<rich.jupyter.JupyterRenderable at 0x11f790040>"
      ]
     },
     "metadata": {},
     "output_type": "display_data"
    },
    {
     "data": {
      "text/html": [
       "<pre style=\"white-space:pre;overflow-x:auto;line-height:normal;font-family:Menlo,'DejaVu Sans Mono',consolas,'Courier New',monospace\"><span style=\"color: #7fbfbf\">                    </span><span style=\"color: #000080\">INFO</span>                                             <a href=\"file:///Users/britton/anaconda3/envs/manim/lib/python3.9/site-packages/manim/scene/scene_file_writer.py\"><span style=\"color: #7f7f7f\">scene_file_writer.py</span></a><span style=\"color: #7f7f7f\">:549</span>\n",
       "                             <span style=\"color: #808000; font-weight: bold\">File</span> ready at <span style=\"color: #800080\">/Users/britton/shared/git</span>                         \n",
       "                             <span style=\"color: #800080\">hub/jbqubit/manimanim/media/videos/mani</span>                         \n",
       "                             <span style=\"color: #800080\">manim/720p30/</span><span style=\"color: #ff00ff\">WhiteCake.mp4</span>                                      \n",
       "                                                                                             \n",
       "</pre>\n"
      ],
      "text/plain": [
       "<rich.jupyter.JupyterRenderable at 0x11f49d070>"
      ]
     },
     "metadata": {},
     "output_type": "display_data"
    },
    {
     "data": {
      "text/html": [
       "<pre style=\"white-space:pre;overflow-x:auto;line-height:normal;font-family:Menlo,'DejaVu Sans Mono',consolas,'Courier New',monospace\"><span style=\"color: #7fbfbf\">                    </span><span style=\"color: #000080\">INFO</span>     <span style=\"color: #808000; font-weight: bold\">Rendered</span> WhiteCake                                  <a href=\"file:///Users/britton/anaconda3/envs/manim/lib/python3.9/site-packages/manim/scene/scene.py\"><span style=\"color: #7f7f7f\">scene.py</span></a><span style=\"color: #7f7f7f\">:175</span>\n",
       "                             <span style=\"color: #808000; font-weight: bold\">Played</span> <span style=\"color: #000080; font-weight: bold\">18</span> <span style=\"color: #808000; font-weight: bold\">animations</span>                                            \n",
       "</pre>\n"
      ],
      "text/plain": [
       "<rich.jupyter.JupyterRenderable at 0x11f49d070>"
      ]
     },
     "metadata": {},
     "output_type": "display_data"
    },
    {
     "data": {
      "text/html": [
       "<video src=\"media/jupyter/e2460b55bc71dc857da84487d5b12fca1a090e10.mp4\" controls autoplay loop style=\"max-width: 100%;\"  >\n",
       "      Your browser does not support the <code>video</code> element.\n",
       "    </video>"
      ],
      "text/plain": [
       "<IPython.core.display.Video object>"
      ]
     },
     "metadata": {},
     "output_type": "display_data"
    }
   ],
   "source": [
    "#!/usr/bin/env python\n",
    "# manim.__version__ = '0.3.0'\n",
    "\n",
    "\n",
    "from manim import *\n",
    "\n",
    "class WhiteCake(Scene):\n",
    "    \n",
    "    def construct(self):\n",
    "\n",
    "        # bake the cake\n",
    "        cside = []\n",
    "        ctop = []\n",
    "        cside_vg = VGroup()\n",
    "        for i in range(3):\n",
    "            cs = Rectangle(height=1, width=2*(i+1), color=WHITE)\n",
    "            cs.set_fill(BLACK, opacity=1.0).shift(LEFT*3)\n",
    "            if i == 2:\n",
    "                ct = Circle(color=WHITE).scale(i+1)\n",
    "            else:\n",
    "                ct = Circle(color=GREY).scale(i+1)\n",
    "            ct.set_fill(BLACK, opacity=1.0).shift(RIGHT*4)\n",
    "            cside.append(cs)\n",
    "            ctop.append(ct)\n",
    "            cside_vg += cs \n",
    "        self.play(FadeIn(cside_vg), FadeIn(ctop[2]))\n",
    "\n",
    "        self.wait(1)\n",
    "        \n",
    "        # list cake dimensions\n",
    "        b1 = BraceLabel(cside[2], '6r', brace_direction=DOWN)\n",
    "        b2 = BraceLabel(cside[2], 'h', brace_direction=LEFT)  \n",
    "        self.play(FadeIn(b2), FadeIn(b1))\n",
    "        self.wait(1)\n",
    "        \n",
    "        # calculate cake volume for single layer\n",
    "        vol012 = MathTex(\"V=\", \"h \\\\pi (3r)^2\", \"+h \\\\pi(2r)^2\", \"+h \\\\pi r^2\")\n",
    "        vol012.shift(DOWN*3).shift(LEFT*3)\n",
    "        framebox0 = SurroundingRectangle(vol012[1], buff = .1)\n",
    "        self.play(Write(vol012[0]), \n",
    "                  Write(vol012[1]),\n",
    "                  ShowCreation(framebox0)\n",
    "                 )\n",
    "        self.wait(1)\n",
    "        \n",
    "        # show middle layer\n",
    "        framebox1 = SurroundingRectangle(vol012[2], buff = .1)\n",
    "        self.play(Write(vol012[2]),\n",
    "                  ReplacementTransform(framebox0, framebox1),\n",
    "                  ApplyMethod(cside[1].shift, UP), \n",
    "                  FadeIn(ctop[1]),\n",
    "                 )\n",
    "        self.wait(1)\n",
    "        \n",
    "        # show top layer\n",
    "        framebox2 = SurroundingRectangle(vol012[3], buff = .1)\n",
    "        self.play(Write(vol012[3]),\n",
    "                  ReplacementTransform(framebox1, framebox2),\n",
    "                  ApplyMethod(cside[0].shift, UP*2), \n",
    "                  FadeIn(ctop[0]),\n",
    "                 )\n",
    "        self.wait(1)\n",
    "        \n",
    "        \n",
    "        candle = Line(start=cside[0].get_top(), end=cside[0].get_top()+ UP)\n",
    "        self.play(FadeOut(framebox2),\n",
    "                 FadeIn(candle))\n",
    "        self.wait(1)\n",
    "        \n",
    "        sglow = Dot(candle.get_top(), color=YELLOW)\n",
    "        tglow = Dot(ctop[0].get_center(), color=YELLOW)\n",
    "        cside[0].set_fill(WHITE)\n",
    "        cside[1].set_fill(WHITE)\n",
    "        cside[2].set_fill(WHITE)\n",
    "        ctop[0].set_fill(WHITE)\n",
    "        ctop[1].set_fill(WHITE)\n",
    "        ctop[2].set_fill(WHITE)\n",
    "        self.play(FadeOut(vol012), \n",
    "                  FadeOut(framebox2), \n",
    "                  FadeOut(b1), \n",
    "                  FadeOut(b2),\n",
    "                  FadeIn(sglow),\n",
    "                  FadeIn(tglow)\n",
    "                 )\n",
    "        self.remove(vol012)\n",
    "        self.wait(1)\n",
    "        \n",
    "        greeting = Tex(\"Happy Birthday Matthew!\", color=RED).shift(DOWN*2).shift(LEFT*3)\n",
    "        self.play(Write(greeting))\n",
    "        self.wait(1)\n",
    "\n",
    "        # link to source\n",
    "        frame_width = config[\"frame_width\"]\n",
    "        frame_height = config[\"frame_height\"]\n",
    "        srclink = Tex(\"https://github.com/jbqubit/manimanim/whitecake.ipynb\")\n",
    "        srclink.scale(0.5).to_edge(RIGHT).to_edge(UP)\n",
    "        self.play(Write(srclink)) #self.FadeIn(Write(srclink))\n",
    "        self.wait(2)\n",
    "        \n",
    "%manim WhiteCake -pqm"
   ]
  },
  {
   "cell_type": "code",
   "execution_count": 1,
   "id": "north-rehabilitation",
   "metadata": {},
   "outputs": [
    {
     "data": {
      "text/plain": [
       "2"
      ]
     },
     "execution_count": 1,
     "metadata": {},
     "output_type": "execute_result"
    }
   ],
   "source": [
    "1+1"
   ]
  },
  {
   "cell_type": "code",
   "execution_count": null,
   "id": "aging-brighton",
   "metadata": {},
   "outputs": [],
   "source": []
  }
 ],
 "metadata": {
  "kernelspec": {
   "display_name": "manim",
   "language": "python",
   "name": "manim"
  },
  "language_info": {
   "codemirror_mode": {
    "name": "ipython",
    "version": 3
   },
   "file_extension": ".py",
   "mimetype": "text/x-python",
   "name": "python",
   "nbconvert_exporter": "python",
   "pygments_lexer": "ipython3",
   "version": "3.9.1"
  }
 },
 "nbformat": 4,
 "nbformat_minor": 5
}
